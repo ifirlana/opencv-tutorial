{
 "cells": [
  {
   "cell_type": "code",
   "execution_count": 1,
   "metadata": {
    "collapsed": true
   },
   "outputs": [],
   "source": [
    "# read the image\n",
    "import cv2\n",
    "import numpy as np\n",
    "\n",
    "image = cv2.imread('me.jpg')"
   ]
  },
  {
   "cell_type": "code",
   "execution_count": 6,
   "metadata": {
    "collapsed": false
   },
   "outputs": [
    {
     "name": "stdout",
     "output_type": "stream",
     "text": [
      "189 203 202\n",
      "(402, 402, 3)\n"
     ]
    }
   ],
   "source": [
    "# processing the image\n",
    "# check the value of pixel position on 0,50\n",
    "B, G, R = image[0, 50]\n",
    "print B, G, R\n",
    "print image.shape"
   ]
  },
  {
   "cell_type": "code",
   "execution_count": 8,
   "metadata": {
    "collapsed": false
   },
   "outputs": [
    {
     "name": "stdout",
     "output_type": "stream",
     "text": [
      "(402, 402)\n",
      "201\n"
     ]
    }
   ],
   "source": [
    "gray_img = cv2.cvtColor(image, cv2.COLOR_BGR2GRAY)\n",
    "print gray_img.shape\n",
    "print gray_img[0, 50]"
   ]
  },
  {
   "cell_type": "code",
   "execution_count": 9,
   "metadata": {
    "collapsed": false
   },
   "outputs": [
    {
     "name": "stdout",
     "output_type": "stream",
     "text": [
      "197\n"
     ]
    }
   ],
   "source": [
    "print gray_img[0,0]"
   ]
  },
  {
   "cell_type": "code",
   "execution_count": 10,
   "metadata": {
    "collapsed": true
   },
   "outputs": [],
   "source": [
    "image = cv2.imread('me.jpg')\n",
    "\n",
    "hsv_image = cv2.cvtColor(image, cv2.COLOR_BGR2HSV)\n",
    "\n",
    "cv2.imshow('HSV Image', hsv_image)\n",
    "cv2.imshow('Hue Channel', hsv_image[:, :, 0])\n",
    "cv2.imshow('Saturation Channel', hsv_image[:, :, 1])\n",
    "cv2.imshow('Value Channel', hsv_image[:, :, 2])\n",
    "\n",
    "cv2.waitKey()\n",
    "cv2.destroyAllWindows()"
   ]
  },
  {
   "cell_type": "code",
   "execution_count": 11,
   "metadata": {
    "collapsed": true
   },
   "outputs": [],
   "source": [
    "B, G, R = cv2.split(image)\n",
    "\n",
    "cv2.imshow(\"RED\", R)\n",
    "cv2.imshow(\"GREEN\", G)\n",
    "cv2.imshow(\"BLUE\", B)\n",
    "\n",
    "cv2.waitKey()\n",
    "cv2.destroyAllWindows()\n",
    "\n",
    "merged = cv2.merge([B, G, R])\n",
    "cv2.imshow(\"MERGED\", merged)\n",
    "\n",
    "merged = cv2.merge([B+100, G, R])\n",
    "cv2.imshow(\"MERGED blue amplified\", merged)\n",
    "cv2.waitKey()\n",
    "cv2.destroyAllWindows()"
   ]
  },
  {
   "cell_type": "code",
   "execution_count": null,
   "metadata": {
    "collapsed": true
   },
   "outputs": [],
   "source": [
    "import cv2\n",
    "import numpy as np\n",
    "\n",
    "# create from zero\n",
    "\n",
    "B, G, R = cv2.split(image)\n",
    "\n",
    "zeros = np.zeros(image.shape[:2], dtype=\"uint8\")\n",
    "\n",
    "cv2.imshow(\"RED\", cv2.merge([zeros, zeros, R]))\n",
    "cv2.imshow(\"GREEN\", cv2.merge([zeros, G, zeros]))\n",
    "cv2.imshow(\"BLUE\", cv2.merge([B, zeros, zeros]))\n",
    "\n",
    "cv2.waitKey(0)\n",
    "cv2.destroyAllWindows()"
   ]
  },
  {
   "cell_type": "code",
   "execution_count": null,
   "metadata": {
    "collapsed": true
   },
   "outputs": [],
   "source": []
  }
 ],
 "metadata": {
  "kernelspec": {
   "display_name": "Python [conda root]",
   "language": "python",
   "name": "conda-root-py"
  },
  "language_info": {
   "codemirror_mode": {
    "name": "ipython",
    "version": 2
   },
   "file_extension": ".py",
   "mimetype": "text/x-python",
   "name": "python",
   "nbconvert_exporter": "python",
   "pygments_lexer": "ipython2",
   "version": "2.7.12"
  }
 },
 "nbformat": 4,
 "nbformat_minor": 1
}
